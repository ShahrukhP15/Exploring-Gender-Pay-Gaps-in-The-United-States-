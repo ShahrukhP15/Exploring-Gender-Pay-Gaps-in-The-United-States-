{
 "cells": [
  {
   "cell_type": "code",
   "execution_count": 2,
   "id": "eef7c042-c1d0-4cce-b20c-679f0112015f",
   "metadata": {},
   "outputs": [
    {
     "name": "stderr",
     "output_type": "stream",
     "text": [
      "── \u001b[1mAttaching packages\u001b[22m ─────────────────────────────────────── tidyverse 1.3.2 ──\n",
      "\u001b[32m✔\u001b[39m \u001b[34mggplot2\u001b[39m 3.3.6      \u001b[32m✔\u001b[39m \u001b[34mpurrr  \u001b[39m 0.3.4 \n",
      "\u001b[32m✔\u001b[39m \u001b[34mtibble \u001b[39m 3.1.8      \u001b[32m✔\u001b[39m \u001b[34mdplyr  \u001b[39m 1.0.10\n",
      "\u001b[32m✔\u001b[39m \u001b[34mtidyr  \u001b[39m 1.2.1      \u001b[32m✔\u001b[39m \u001b[34mstringr\u001b[39m 1.4.1 \n",
      "\u001b[32m✔\u001b[39m \u001b[34mreadr  \u001b[39m 2.1.2      \u001b[32m✔\u001b[39m \u001b[34mforcats\u001b[39m 0.5.2 \n",
      "── \u001b[1mConflicts\u001b[22m ────────────────────────────────────────── tidyverse_conflicts() ──\n",
      "\u001b[31m✖\u001b[39m \u001b[34mdplyr\u001b[39m::\u001b[32mfilter()\u001b[39m masks \u001b[34mstats\u001b[39m::filter()\n",
      "\u001b[31m✖\u001b[39m \u001b[34mdplyr\u001b[39m::\u001b[32mlag()\u001b[39m    masks \u001b[34mstats\u001b[39m::lag()\n"
     ]
    }
   ],
   "source": [
    "library(cowplot)\n",
    "library(datateachr)\n",
    "library(digest)\n",
    "library(infer)\n",
    "library(repr)\n",
    "library(taxyvr)\n",
    "library(tidyverse)"
   ]
  },
  {
   "cell_type": "code",
   "execution_count": 3,
   "id": "77d65d7f-2d05-4ff5-83f5-3910ffb1395d",
   "metadata": {},
   "outputs": [
    {
     "name": "stderr",
     "output_type": "stream",
     "text": [
      "\u001b[1mRows: \u001b[22m\u001b[34m32561\u001b[39m \u001b[1mColumns: \u001b[22m\u001b[34m15\u001b[39m\n",
      "\u001b[36m──\u001b[39m \u001b[1mColumn specification\u001b[22m \u001b[36m────────────────────────────────────────────────────────\u001b[39m\n",
      "\u001b[1mDelimiter:\u001b[22m \",\"\n",
      "\u001b[31mchr\u001b[39m (9): work_class, education_level, marital_status, occupation, relationsh...\n",
      "\u001b[32mdbl\u001b[39m (6): age, fnlwgt, year_of_education, capital_gain, capital_loss, working...\n",
      "\n",
      "\u001b[36mℹ\u001b[39m Use `spec()` to retrieve the full column specification for this data.\n",
      "\u001b[36mℹ\u001b[39m Specify the column types or set `show_col_types = FALSE` to quiet this message.\n"
     ]
    },
    {
     "data": {
      "text/html": [
       "<table class=\"dataframe\">\n",
       "<caption>A tibble: 6 × 15</caption>\n",
       "<thead>\n",
       "\t<tr><th scope=col>age</th><th scope=col>work_class</th><th scope=col>fnlwgt</th><th scope=col>education_level</th><th scope=col>year_of_education</th><th scope=col>marital_status</th><th scope=col>occupation</th><th scope=col>relationship_status</th><th scope=col>race</th><th scope=col>gender</th><th scope=col>capital_gain</th><th scope=col>capital_loss</th><th scope=col>working_hours(/wk)</th><th scope=col>native_country</th><th scope=col>income</th></tr>\n",
       "\t<tr><th scope=col>&lt;dbl&gt;</th><th scope=col>&lt;chr&gt;</th><th scope=col>&lt;dbl&gt;</th><th scope=col>&lt;chr&gt;</th><th scope=col>&lt;dbl&gt;</th><th scope=col>&lt;chr&gt;</th><th scope=col>&lt;chr&gt;</th><th scope=col>&lt;chr&gt;</th><th scope=col>&lt;chr&gt;</th><th scope=col>&lt;chr&gt;</th><th scope=col>&lt;dbl&gt;</th><th scope=col>&lt;dbl&gt;</th><th scope=col>&lt;dbl&gt;</th><th scope=col>&lt;chr&gt;</th><th scope=col>&lt;chr&gt;</th></tr>\n",
       "</thead>\n",
       "<tbody>\n",
       "\t<tr><td>39</td><td><span style=white-space:pre-wrap>State-gov       </span></td><td> 77516</td><td>Bachelors</td><td>13</td><td><span style=white-space:pre-wrap>Never-married     </span></td><td><span style=white-space:pre-wrap>Adm-clerical     </span></td><td>Not-in-family</td><td>White</td><td><span style=white-space:pre-wrap>Male  </span></td><td>2174</td><td>0</td><td>40</td><td>United-States</td><td>&lt;=50K</td></tr>\n",
       "\t<tr><td>50</td><td>Self-emp-not-inc</td><td> 83311</td><td>Bachelors</td><td>13</td><td>Married-civ-spouse</td><td><span style=white-space:pre-wrap>Exec-managerial  </span></td><td><span style=white-space:pre-wrap>Husband      </span></td><td>White</td><td><span style=white-space:pre-wrap>Male  </span></td><td><span style=white-space:pre-wrap>   0</span></td><td>0</td><td>13</td><td>United-States</td><td>&lt;=50K</td></tr>\n",
       "\t<tr><td>38</td><td><span style=white-space:pre-wrap>Private         </span></td><td>215646</td><td><span style=white-space:pre-wrap>HS-grad  </span></td><td> 9</td><td><span style=white-space:pre-wrap>Divorced          </span></td><td>Handlers-cleaners</td><td>Not-in-family</td><td>White</td><td><span style=white-space:pre-wrap>Male  </span></td><td><span style=white-space:pre-wrap>   0</span></td><td>0</td><td>40</td><td>United-States</td><td>&lt;=50K</td></tr>\n",
       "\t<tr><td>53</td><td><span style=white-space:pre-wrap>Private         </span></td><td>234721</td><td><span style=white-space:pre-wrap>11th     </span></td><td> 7</td><td>Married-civ-spouse</td><td>Handlers-cleaners</td><td><span style=white-space:pre-wrap>Husband      </span></td><td>Black</td><td><span style=white-space:pre-wrap>Male  </span></td><td><span style=white-space:pre-wrap>   0</span></td><td>0</td><td>40</td><td>United-States</td><td>&lt;=50K</td></tr>\n",
       "\t<tr><td>28</td><td><span style=white-space:pre-wrap>Private         </span></td><td>338409</td><td>Bachelors</td><td>13</td><td>Married-civ-spouse</td><td><span style=white-space:pre-wrap>Prof-specialty   </span></td><td><span style=white-space:pre-wrap>Wife         </span></td><td>Black</td><td>Female</td><td><span style=white-space:pre-wrap>   0</span></td><td>0</td><td>40</td><td><span style=white-space:pre-wrap>Cuba         </span></td><td>&lt;=50K</td></tr>\n",
       "\t<tr><td>37</td><td><span style=white-space:pre-wrap>Private         </span></td><td>284582</td><td><span style=white-space:pre-wrap>Masters  </span></td><td>14</td><td>Married-civ-spouse</td><td><span style=white-space:pre-wrap>Exec-managerial  </span></td><td><span style=white-space:pre-wrap>Wife         </span></td><td>White</td><td>Female</td><td><span style=white-space:pre-wrap>   0</span></td><td>0</td><td>40</td><td>United-States</td><td>&lt;=50K</td></tr>\n",
       "</tbody>\n",
       "</table>\n"
      ],
      "text/latex": [
       "A tibble: 6 × 15\n",
       "\\begin{tabular}{lllllllllllllll}\n",
       " age & work\\_class & fnlwgt & education\\_level & year\\_of\\_education & marital\\_status & occupation & relationship\\_status & race & gender & capital\\_gain & capital\\_loss & working\\_hours(/wk) & native\\_country & income\\\\\n",
       " <dbl> & <chr> & <dbl> & <chr> & <dbl> & <chr> & <chr> & <chr> & <chr> & <chr> & <dbl> & <dbl> & <dbl> & <chr> & <chr>\\\\\n",
       "\\hline\n",
       "\t 39 & State-gov        &  77516 & Bachelors & 13 & Never-married      & Adm-clerical      & Not-in-family & White & Male   & 2174 & 0 & 40 & United-States & <=50K\\\\\n",
       "\t 50 & Self-emp-not-inc &  83311 & Bachelors & 13 & Married-civ-spouse & Exec-managerial   & Husband       & White & Male   &    0 & 0 & 13 & United-States & <=50K\\\\\n",
       "\t 38 & Private          & 215646 & HS-grad   &  9 & Divorced           & Handlers-cleaners & Not-in-family & White & Male   &    0 & 0 & 40 & United-States & <=50K\\\\\n",
       "\t 53 & Private          & 234721 & 11th      &  7 & Married-civ-spouse & Handlers-cleaners & Husband       & Black & Male   &    0 & 0 & 40 & United-States & <=50K\\\\\n",
       "\t 28 & Private          & 338409 & Bachelors & 13 & Married-civ-spouse & Prof-specialty    & Wife          & Black & Female &    0 & 0 & 40 & Cuba          & <=50K\\\\\n",
       "\t 37 & Private          & 284582 & Masters   & 14 & Married-civ-spouse & Exec-managerial   & Wife          & White & Female &    0 & 0 & 40 & United-States & <=50K\\\\\n",
       "\\end{tabular}\n"
      ],
      "text/markdown": [
       "\n",
       "A tibble: 6 × 15\n",
       "\n",
       "| age &lt;dbl&gt; | work_class &lt;chr&gt; | fnlwgt &lt;dbl&gt; | education_level &lt;chr&gt; | year_of_education &lt;dbl&gt; | marital_status &lt;chr&gt; | occupation &lt;chr&gt; | relationship_status &lt;chr&gt; | race &lt;chr&gt; | gender &lt;chr&gt; | capital_gain &lt;dbl&gt; | capital_loss &lt;dbl&gt; | working_hours(/wk) &lt;dbl&gt; | native_country &lt;chr&gt; | income &lt;chr&gt; |\n",
       "|---|---|---|---|---|---|---|---|---|---|---|---|---|---|---|\n",
       "| 39 | State-gov        |  77516 | Bachelors | 13 | Never-married      | Adm-clerical      | Not-in-family | White | Male   | 2174 | 0 | 40 | United-States | &lt;=50K |\n",
       "| 50 | Self-emp-not-inc |  83311 | Bachelors | 13 | Married-civ-spouse | Exec-managerial   | Husband       | White | Male   |    0 | 0 | 13 | United-States | &lt;=50K |\n",
       "| 38 | Private          | 215646 | HS-grad   |  9 | Divorced           | Handlers-cleaners | Not-in-family | White | Male   |    0 | 0 | 40 | United-States | &lt;=50K |\n",
       "| 53 | Private          | 234721 | 11th      |  7 | Married-civ-spouse | Handlers-cleaners | Husband       | Black | Male   |    0 | 0 | 40 | United-States | &lt;=50K |\n",
       "| 28 | Private          | 338409 | Bachelors | 13 | Married-civ-spouse | Prof-specialty    | Wife          | Black | Female |    0 | 0 | 40 | Cuba          | &lt;=50K |\n",
       "| 37 | Private          | 284582 | Masters   | 14 | Married-civ-spouse | Exec-managerial   | Wife          | White | Female |    0 | 0 | 40 | United-States | &lt;=50K |\n",
       "\n"
      ],
      "text/plain": [
       "  age work_class       fnlwgt education_level year_of_education\n",
       "1 39  State-gov         77516 Bachelors       13               \n",
       "2 50  Self-emp-not-inc  83311 Bachelors       13               \n",
       "3 38  Private          215646 HS-grad          9               \n",
       "4 53  Private          234721 11th             7               \n",
       "5 28  Private          338409 Bachelors       13               \n",
       "6 37  Private          284582 Masters         14               \n",
       "  marital_status     occupation        relationship_status race  gender\n",
       "1 Never-married      Adm-clerical      Not-in-family       White Male  \n",
       "2 Married-civ-spouse Exec-managerial   Husband             White Male  \n",
       "3 Divorced           Handlers-cleaners Not-in-family       White Male  \n",
       "4 Married-civ-spouse Handlers-cleaners Husband             Black Male  \n",
       "5 Married-civ-spouse Prof-specialty    Wife                Black Female\n",
       "6 Married-civ-spouse Exec-managerial   Wife                White Female\n",
       "  capital_gain capital_loss working_hours(/wk) native_country income\n",
       "1 2174         0            40                 United-States  <=50K \n",
       "2    0         0            13                 United-States  <=50K \n",
       "3    0         0            40                 United-States  <=50K \n",
       "4    0         0            40                 United-States  <=50K \n",
       "5    0         0            40                 Cuba           <=50K \n",
       "6    0         0            40                 United-States  <=50K "
      ]
     },
     "metadata": {},
     "output_type": "display_data"
    }
   ],
   "source": [
    "colnames<- c(\"age\", \"work_class\", \"fnlwgt\", \"education_level\", \"year_of_education\",\"marital_status\", \n",
    "             \"occupation\", \"relationship_status\", \"race\",\"gender\",\"capital_gain\", \"capital_loss\", \n",
    "             \"working_hours(/wk)\", \"native_country\", \"income\")\n",
    "\n",
    "income_data <- read_csv(\"https://archive.ics.uci.edu/ml/machine-learning-databases/adult/adult.data\", \n",
    "                        col_names = colnames)\n",
    "\n",
    "head(income_data)"
   ]
  },
  {
   "cell_type": "code",
   "execution_count": null,
   "id": "cc3a5b65-f240-405c-b94e-0d09f4eb42a0",
   "metadata": {},
   "outputs": [],
   "source": []
  },
  {
   "cell_type": "code",
   "execution_count": 4,
   "id": "fe085ab0-fc43-4808-8632-1a6adaef9487",
   "metadata": {},
   "outputs": [
    {
     "name": "stderr",
     "output_type": "stream",
     "text": [
      "\u001b[1m\u001b[22m`summarise()` has grouped output by 'occupation'. You can override using the\n",
      "`.groups` argument.\n"
     ]
    },
    {
     "data": {
      "text/html": [
       "<table class=\"dataframe\">\n",
       "<caption>A grouped_df: 29 × 3</caption>\n",
       "<thead>\n",
       "\t<tr><th scope=col>occupation</th><th scope=col>gender</th><th scope=col>n</th></tr>\n",
       "\t<tr><th scope=col>&lt;chr&gt;</th><th scope=col>&lt;chr&gt;</th><th scope=col>&lt;int&gt;</th></tr>\n",
       "</thead>\n",
       "<tbody>\n",
       "\t<tr><td>?                </td><td>Female</td><td> 750</td></tr>\n",
       "\t<tr><td>?                </td><td>Male  </td><td> 916</td></tr>\n",
       "\t<tr><td>Adm-clerical     </td><td>Female</td><td>2346</td></tr>\n",
       "\t<tr><td>Adm-clerical     </td><td>Male  </td><td>1103</td></tr>\n",
       "\t<tr><td>Armed-Forces     </td><td>Male  </td><td>   9</td></tr>\n",
       "\t<tr><td>Craft-repair     </td><td>Female</td><td> 196</td></tr>\n",
       "\t<tr><td>Craft-repair     </td><td>Male  </td><td>3489</td></tr>\n",
       "\t<tr><td>Exec-managerial  </td><td>Female</td><td>1070</td></tr>\n",
       "\t<tr><td>Exec-managerial  </td><td>Male  </td><td>2665</td></tr>\n",
       "\t<tr><td>Farming-fishing  </td><td>Female</td><td>  59</td></tr>\n",
       "\t<tr><td>Farming-fishing  </td><td>Male  </td><td> 820</td></tr>\n",
       "\t<tr><td>Handlers-cleaners</td><td>Female</td><td> 144</td></tr>\n",
       "\t<tr><td>Handlers-cleaners</td><td>Male  </td><td>1045</td></tr>\n",
       "\t<tr><td>Machine-op-inspct</td><td>Female</td><td> 439</td></tr>\n",
       "\t<tr><td>Machine-op-inspct</td><td>Male  </td><td>1248</td></tr>\n",
       "\t<tr><td>Other-service    </td><td>Female</td><td>1573</td></tr>\n",
       "\t<tr><td>Other-service    </td><td>Male  </td><td>1204</td></tr>\n",
       "\t<tr><td>Priv-house-serv  </td><td>Female</td><td>  83</td></tr>\n",
       "\t<tr><td>Priv-house-serv  </td><td>Male  </td><td>   7</td></tr>\n",
       "\t<tr><td>Prof-specialty   </td><td>Female</td><td>1380</td></tr>\n",
       "\t<tr><td>Prof-specialty   </td><td>Male  </td><td>2313</td></tr>\n",
       "\t<tr><td>Protective-serv  </td><td>Female</td><td>  71</td></tr>\n",
       "\t<tr><td>Protective-serv  </td><td>Male  </td><td> 535</td></tr>\n",
       "\t<tr><td>Sales            </td><td>Female</td><td>1168</td></tr>\n",
       "\t<tr><td>Sales            </td><td>Male  </td><td>2196</td></tr>\n",
       "\t<tr><td>Tech-support     </td><td>Female</td><td> 318</td></tr>\n",
       "\t<tr><td>Tech-support     </td><td>Male  </td><td> 532</td></tr>\n",
       "\t<tr><td>Transport-moving </td><td>Female</td><td>  85</td></tr>\n",
       "\t<tr><td>Transport-moving </td><td>Male  </td><td>1406</td></tr>\n",
       "</tbody>\n",
       "</table>\n"
      ],
      "text/latex": [
       "A grouped\\_df: 29 × 3\n",
       "\\begin{tabular}{lll}\n",
       " occupation & gender & n\\\\\n",
       " <chr> & <chr> & <int>\\\\\n",
       "\\hline\n",
       "\t ?                 & Female &  750\\\\\n",
       "\t ?                 & Male   &  916\\\\\n",
       "\t Adm-clerical      & Female & 2346\\\\\n",
       "\t Adm-clerical      & Male   & 1103\\\\\n",
       "\t Armed-Forces      & Male   &    9\\\\\n",
       "\t Craft-repair      & Female &  196\\\\\n",
       "\t Craft-repair      & Male   & 3489\\\\\n",
       "\t Exec-managerial   & Female & 1070\\\\\n",
       "\t Exec-managerial   & Male   & 2665\\\\\n",
       "\t Farming-fishing   & Female &   59\\\\\n",
       "\t Farming-fishing   & Male   &  820\\\\\n",
       "\t Handlers-cleaners & Female &  144\\\\\n",
       "\t Handlers-cleaners & Male   & 1045\\\\\n",
       "\t Machine-op-inspct & Female &  439\\\\\n",
       "\t Machine-op-inspct & Male   & 1248\\\\\n",
       "\t Other-service     & Female & 1573\\\\\n",
       "\t Other-service     & Male   & 1204\\\\\n",
       "\t Priv-house-serv   & Female &   83\\\\\n",
       "\t Priv-house-serv   & Male   &    7\\\\\n",
       "\t Prof-specialty    & Female & 1380\\\\\n",
       "\t Prof-specialty    & Male   & 2313\\\\\n",
       "\t Protective-serv   & Female &   71\\\\\n",
       "\t Protective-serv   & Male   &  535\\\\\n",
       "\t Sales             & Female & 1168\\\\\n",
       "\t Sales             & Male   & 2196\\\\\n",
       "\t Tech-support      & Female &  318\\\\\n",
       "\t Tech-support      & Male   &  532\\\\\n",
       "\t Transport-moving  & Female &   85\\\\\n",
       "\t Transport-moving  & Male   & 1406\\\\\n",
       "\\end{tabular}\n"
      ],
      "text/markdown": [
       "\n",
       "A grouped_df: 29 × 3\n",
       "\n",
       "| occupation &lt;chr&gt; | gender &lt;chr&gt; | n &lt;int&gt; |\n",
       "|---|---|---|\n",
       "| ?                 | Female |  750 |\n",
       "| ?                 | Male   |  916 |\n",
       "| Adm-clerical      | Female | 2346 |\n",
       "| Adm-clerical      | Male   | 1103 |\n",
       "| Armed-Forces      | Male   |    9 |\n",
       "| Craft-repair      | Female |  196 |\n",
       "| Craft-repair      | Male   | 3489 |\n",
       "| Exec-managerial   | Female | 1070 |\n",
       "| Exec-managerial   | Male   | 2665 |\n",
       "| Farming-fishing   | Female |   59 |\n",
       "| Farming-fishing   | Male   |  820 |\n",
       "| Handlers-cleaners | Female |  144 |\n",
       "| Handlers-cleaners | Male   | 1045 |\n",
       "| Machine-op-inspct | Female |  439 |\n",
       "| Machine-op-inspct | Male   | 1248 |\n",
       "| Other-service     | Female | 1573 |\n",
       "| Other-service     | Male   | 1204 |\n",
       "| Priv-house-serv   | Female |   83 |\n",
       "| Priv-house-serv   | Male   |    7 |\n",
       "| Prof-specialty    | Female | 1380 |\n",
       "| Prof-specialty    | Male   | 2313 |\n",
       "| Protective-serv   | Female |   71 |\n",
       "| Protective-serv   | Male   |  535 |\n",
       "| Sales             | Female | 1168 |\n",
       "| Sales             | Male   | 2196 |\n",
       "| Tech-support      | Female |  318 |\n",
       "| Tech-support      | Male   |  532 |\n",
       "| Transport-moving  | Female |   85 |\n",
       "| Transport-moving  | Male   | 1406 |\n",
       "\n"
      ],
      "text/plain": [
       "   occupation        gender n   \n",
       "1  ?                 Female  750\n",
       "2  ?                 Male    916\n",
       "3  Adm-clerical      Female 2346\n",
       "4  Adm-clerical      Male   1103\n",
       "5  Armed-Forces      Male      9\n",
       "6  Craft-repair      Female  196\n",
       "7  Craft-repair      Male   3489\n",
       "8  Exec-managerial   Female 1070\n",
       "9  Exec-managerial   Male   2665\n",
       "10 Farming-fishing   Female   59\n",
       "11 Farming-fishing   Male    820\n",
       "12 Handlers-cleaners Female  144\n",
       "13 Handlers-cleaners Male   1045\n",
       "14 Machine-op-inspct Female  439\n",
       "15 Machine-op-inspct Male   1248\n",
       "16 Other-service     Female 1573\n",
       "17 Other-service     Male   1204\n",
       "18 Priv-house-serv   Female   83\n",
       "19 Priv-house-serv   Male      7\n",
       "20 Prof-specialty    Female 1380\n",
       "21 Prof-specialty    Male   2313\n",
       "22 Protective-serv   Female   71\n",
       "23 Protective-serv   Male    535\n",
       "24 Sales             Female 1168\n",
       "25 Sales             Male   2196\n",
       "26 Tech-support      Female  318\n",
       "27 Tech-support      Male    532\n",
       "28 Transport-moving  Female   85\n",
       "29 Transport-moving  Male   1406"
      ]
     },
     "metadata": {},
     "output_type": "display_data"
    }
   ],
   "source": [
    "income_data <- income_data |>\n",
    "            filter(native_country == \"United-States\")\n",
    "\n",
    "x <- income_data |>\n",
    "    group_by(occupation,gender) |>\n",
    "    summarise(n=n())\n",
    "x"
   ]
  },
  {
   "cell_type": "code",
   "execution_count": 5,
   "id": "07bfc944-4545-4bc9-8bb7-0e2c2251bd81",
   "metadata": {},
   "outputs": [],
   "source": [
    "income_data <- income_data"
   ]
  }
 ],
 "metadata": {
  "kernelspec": {
   "display_name": "R",
   "language": "R",
   "name": "ir"
  },
  "language_info": {
   "codemirror_mode": "r",
   "file_extension": ".r",
   "mimetype": "text/x-r-source",
   "name": "R",
   "pygments_lexer": "r",
   "version": "4.1.3"
  }
 },
 "nbformat": 4,
 "nbformat_minor": 5
}
